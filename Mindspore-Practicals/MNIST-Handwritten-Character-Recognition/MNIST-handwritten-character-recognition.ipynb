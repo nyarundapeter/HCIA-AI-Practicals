{
 "cells": [
  {
   "cell_type": "markdown",
   "id": "1d3b5a5a-15b6-4a39-ae04-4f0abdd5b899",
   "metadata": {},
   "source": [
    "# MNIST Handwritten Character Recognition\n",
    "\n",
    "## 1. Introduction \n",
    "\n",
    "### 1.1 About This Exercise \n",
    "This exercise implements the MNIST handwritten character recognition, which is a typical case in the deep learning field. <br>The whole process is as follows: \n",
    "    - Process the required dataset. (The MNIST dataset is used in this example.) \n",
    "    - Define a network. (A simple fully-connected network is built in this example.) \n",
    "    - Define a loss function and an optimizer. \n",
    "    - Load the dataset and perform training. \n",
    "    - After the training is complete, use the test set for validation.\n",
    "    \n",
    "## 2. Preparations \n",
    "Before you start, check whether MindSpore has been correctly installed. You are advised to install MindSpore on your computer by referring to the MindSpore official website <br>https://www.mindspore.cn/install/en. <br>In addition, you should have basic mathematical knowledge, including knowledge of Python coding basics, probability, and matrices. \n",
    "<br>Recommended environment: \n",
    "    - Version: MindSpore 1.7 \n",
    "    - Programming language: Python 3.7 \n",
    "\n",
    "## 3. Detailed Design and Implementation \n",
    "### 3.1 Data Preparation \n",
    "The MNIST dataset used in this example consists of 10 classes of 28 x 28 pixels grayscale images. It has a training set of 60,000 examples, and a test set of 10,000 examples. <br>Download the MNIST dataset at http://yann.lecun.com/exdb/mnist/ (OBS: https://certificationdata.obs.cn-north-4.myhuaweicloud.com/CHS/HCIA-AI/V3.5/chapter4/MNIST.zip). Four dataset download links are provided. The first two links are for downloading test data files, and the last two links are for downloading training data files. <br>Download and decompress the files, and store them in the workspace directories ./MNIST /train and ./MNIST /test. <br>The directory structure is as follows:\n",
    "<br>\n",
    "└─MNIST <br>\n",
    "    ├─ test <br>\n",
    "        │ t10k-images.idx3-ubyte <br>\n",
    "        │ t10k-labels.idx1-ubyte <br>\n",
    "    └─ train <br>\n",
    "        | train-images.idx3-ubyte <br>\n",
    "        | train-labels.idx1-ubyte <br>\n",
    "\n",
    "### 3.2 Procedure \n",
    "### Step 1 Import the Python library and module and configure running information. \n",
    "Import the required Python library. <br>Currently, the os library is required. Other required libraries will not be described here. For details about the MindSpore modules, see the MindSpore API page. You can use context.set_context to configure the information required for running, such as the running mode, backend information, and hardware information. <br>Import the context module and configure the required information."
   ]
  },
  {
   "cell_type": "code",
   "execution_count": 2,
   "id": "11e04c34-75d7-43fc-a186-19d75877baa1",
   "metadata": {},
   "outputs": [],
   "source": [
    "# Import related dependent libraries.\n",
    "import os \n",
    "from matplotlib import pyplot as plt \n",
    "import numpy as np \n",
    "\n",
    "import mindspore as ms \n",
    "import mindspore.context as context \n",
    "import mindspore.dataset as ds \n",
    "import mindspore.dataset.transforms as C \n",
    "import mindspore.dataset.vision as CV \n",
    "from mindspore.nn.metrics import Accuracy \n",
    "\n",
    "from mindspore import nn \n",
    "from mindspore.train import Model \n",
    "from mindspore.train.callback import ModelCheckpoint, CheckpointConfig, LossMonitor, TimeMonitor \n",
    "\n",
    "context.set_context(mode=context.GRAPH_MODE, device_target='CPU')"
   ]
  },
  {
   "cell_type": "markdown",
   "id": "4ea142c4-fbd5-49b0-9386-bbd247f0ec35",
   "metadata": {},
   "source": [
    "The graph mode is used in this exercise. <br>You can configure hardware information as required. For example, if the code runs on the Ascend AI processor, set device_target to Ascend. <br>This rule also applies to the code running on the CPU and GPU. For details about parameters, see the context.set_context API description at https://www.mindspore.cn/docs/en/r1.7/api_python/mindspore.context.html."
   ]
  },
  {
   "cell_type": "markdown",
   "id": "57e991bf-577b-41aa-945a-2f3635550fe0",
   "metadata": {},
   "source": [
    "### Step 2 Read data. \n",
    "Use the data reading function of MindSpore to read the MNIST dataset and view the data volume and sample information of the training set and test set."
   ]
  },
  {
   "cell_type": "code",
   "execution_count": 3,
   "id": "04a11310-f939-4f98-b27a-1e47639e718d",
   "metadata": {},
   "outputs": [
    {
     "name": "stdout",
     "output_type": "stream",
     "text": [
      "Data volume of the training dataset: 60000\n",
      "Data volume of the test dataset: 10000\n",
      "Image length/width/channels: (28, 28, 1)\n",
      "Image label style: 1\n"
     ]
    }
   ],
   "source": [
    "DATA_DIR_TRAIN = \"../datasets/../datasets/MNIST/train\" # Training set information \n",
    "DATA_DIR_TEST = \"../datasets/MNIST/test\" # Test set information \n",
    "\n",
    "# Read data. \n",
    "ds_train = ds.MnistDataset(DATA_DIR_TRAIN) \n",
    "ds_test = ds.MnistDataset(DATA_DIR_TEST ) \n",
    "\n",
    "# Display the dataset features. \n",
    "print('Data volume of the training dataset:',ds_train.get_dataset_size()) \n",
    "print('Data volume of the test dataset:',ds_test.get_dataset_size()) \n",
    "image=ds_train.create_dict_iterator().__next__() \n",
    "print('Image length/width/channels:',image['image'].shape) \n",
    "print('Image label style:',image['label']) # Total 10 label classes which are represented by numbers from 0 to 9."
   ]
  },
  {
   "cell_type": "markdown",
   "id": "a22cdbd8-3de6-40f8-81ca-f0372c058b86",
   "metadata": {},
   "source": [
    "### Step 3 Process data. \n",
    "Datasets are crucial for training. A good dataset can effectively improve training accuracy and efficiency. Generally, before loading a dataset, you need to perform some operations on the dataset. Define a dataset and data operations. \n",
    "<br>We define the create_dataset function to create a dataset. In this function, we define the data augmentation and processing operations to be performed: \n",
    "<ul><li>Read the dataset.</li><li>Define parameters required for data augmentation and processing.</li>  <li>Generate corresponding data augmentation operations according to the parameters.</li> <li>Use the map function to apply data operations to the dataset.</li>  <li>Process the generated dataset.</li> "
   ]
  },
  {
   "cell_type": "code",
   "execution_count": 4,
   "id": "1f8b3a8c-c569-4b84-96c9-4412fa0b68b5",
   "metadata": {},
   "outputs": [],
   "source": [
    "def create_dataset(training=True, batch_size=128, resize=(28, 28), rescale=1/255, shift=0, buffer_size=64): \n",
    "    ds = ms.dataset.MnistDataset(DATA_DIR_TRAIN if training else DATA_DIR_TEST) \n",
    "    # Define the resizing, normalization, and channel conversion of the map operation. \n",
    "    resize_op = CV.Resize(resize) \n",
    "    rescale_op = CV.Rescale(rescale,shift) \n",
    "    hwc2chw_op = CV.HWC2CHW() \n",
    "\n",
    "    # Perform the map operation on the dataset. \n",
    "    ds = ds.map(input_columns=\"image\", operations=[rescale_op,resize_op, hwc2chw_op]) \n",
    "    ds = ds.map(input_columns=\"label\", operations=C.TypeCast(ms.int32)) \n",
    "\n",
    "    # Set the shuffle parameter and batch size. \n",
    "    ds = ds.shuffle(buffer_size=buffer_size) \n",
    "    ds = ds.batch(batch_size, drop_remainder=True) \n",
    "    return ds"
   ]
  },
  {
   "cell_type": "markdown",
   "id": "a6a1ed3e-678a-42b5-bafb-2be3ca152df4",
   "metadata": {},
   "source": [
    "In the preceding information, batch_size indicates the number of data records in each batch. Assume that each batch contains 32 data records. Modify the image size, normalization, and image channel, and then modify the data type of the label. Perform the shuffle operation, set batch_size, and set drop_remainder to True. In this case, data that cannot form a batch in the dataset will be discarded. MindSpore supports multiple data processing and augmentation operations, which are usually used together. For details, see Data Processing and Augmentation on the MindSpore official website."
   ]
  },
  {
   "cell_type": "markdown",
   "id": "4cc00c0c-f186-420f-a015-804a12d61296",
   "metadata": {},
   "source": [
    "## Step 4 Sample visualization \n",
    "Read the first 10 samples and visualize the samples to determine whether the samples are real datasets."
   ]
  },
  {
   "cell_type": "code",
   "execution_count": 5,
   "id": "d12111d4-b52d-4476-a2d2-c0c9205cf32e",
   "metadata": {},
   "outputs": [
    {
     "data": {
      "image/png": "[encoded data removed]",
      "text/plain": [
       "<Figure size 1500x500 with 10 Axes>"
      ]
     },
     "metadata": {},
     "output_type": "display_data"
    }
   ],
   "source": [
    "# Display the first 10 images and the labels, and check whether the images are correctly labeled. \n",
    "ds = create_dataset(training=False) \n",
    "data = ds.create_dict_iterator().__next__() \n",
    "images = data['image'].asnumpy() \n",
    "labels = data['label'].asnumpy() \n",
    "\n",
    "plt.figure(figsize=(15,5)) \n",
    "for i in range(1,11): \n",
    "    plt.subplot(2, 5, i) \n",
    "    plt.imshow(np.squeeze(images[i])) \n",
    "    plt.title('Number: %s' % labels[i]) \n",
    "    plt.xticks([]) \n",
    "plt.show()"
   ]
  },
  {
   "cell_type": "markdown",
   "id": "f4888561-8571-49d4-9385-d6b8d5617705",
   "metadata": {},
   "source": [
    "### Step 5 Define a network. \n",
    "We define a simple fully-connected network to implement image recognition. The network has only three layers: <br>The first layer is a fully-connected layer of the shape 784 x 512. <br>The second layer is a fully-connected layer of the shape 512 x 128. <br>The last layer is an output layer of the shape 128 x 10. <br>To use MindSpore for neural network definition, inherit mindspore.nn.Cell. Cell is the base class of all neural networks (such as Conv2d). <br>Define each layer of a neural network in the \\_\\_init\\_\\_ method in advance, and then define the construct method to complete the feedforward construction of the neural network. The network layers are defined as follows:"
   ]
  },
  {
   "cell_type": "code",
   "execution_count": 6,
   "id": "bbbd727b-d176-4727-80ba-4763fe6a8bcf",
   "metadata": {},
   "outputs": [],
   "source": [
    "# Create a model. The model consists of three fully connected layers. The final output layer uses softmax for classification (10 classes consisting of numbers 0 to 9.) \n",
    "class ForwardNN(nn.Cell):\n",
    "    def __init__(self): \n",
    "        super(ForwardNN, self).__init__() \n",
    "        self.flatten = nn.Flatten() \n",
    "        self.fc1 = nn.Dense(784, 512, activation='relu') \n",
    "        self.fc2 = nn.Dense(512, 128, activation='relu') \n",
    "        self.fc3 = nn.Dense(128, 10, activation=None) \n",
    "    def construct(self, input_x): \n",
    "        output = self.flatten(input_x) \n",
    "        output = self.fc1(output) \n",
    "        output = self.fc2(output) \n",
    "        output = self.fc3(output) \n",
    "        return output"
   ]
  },
  {
   "cell_type": "markdown",
   "id": "b48b5c79-7230-483f-82b7-1734ee2970df",
   "metadata": {},
   "source": [
    "### Step 6 Define a loss function and an optimizer. \n",
    "A loss function is also called an objective function and is used to measure the difference between a predicted value and an actual value. <br>Deep learning reduces the loss value by continuous iteration. Defining a good loss function can effectively improve model performance. <br>An optimizer is used to minimize the loss function, improving the model during training. <br>After the loss function is defined, the weight-related gradient of the loss function can be obtained. The gradient is used to indicate the weight optimization direction for the optimizer, improving model performance. Loss functions supported by MindSpore include SoftmaxCrossEntropyWithLogits, L1Loss, and MSELoss. SoftmaxCrossEntropyWithLogits is used in this example. <br>MindSpore provides the callback mechanism to execute custom logic during training. The following uses ModelCheckpoint provided by the framework as an example. ModelCheckpoint can save the network model and parameters for subsequent fine-tuning."
   ]
  },
  {
   "cell_type": "code",
   "execution_count": 7,
   "id": "9845c3ed-a8f4-4118-b5fc-7ae28cd9074c",
   "metadata": {},
   "outputs": [],
   "source": [
    "# Create a network, loss function, validation metric, and optimizer, and set related hyperparameters. \n",
    "\n",
    "lr = 0.001 \n",
    "num_epoch = 10 \n",
    "momentum = 0.9 \n",
    "\n",
    "net = ForwardNN() \n",
    "loss = nn.loss.SoftmaxCrossEntropyWithLogits(sparse=True, reduction='mean') \n",
    "metrics={\"Accuracy\": Accuracy()} \n",
    "opt = nn.Adam(net.trainable_params(), lr)"
   ]
  },
  {
   "cell_type": "markdown",
   "id": "f4d4c4ed-4156-4bb1-aaaa-b8702a121a34",
   "metadata": {},
   "source": [
    "### Step 7 Start training. \n",
    "The training process refers to a process in which a training dataset is transferred to a network for training and optimizing network parameters. In the MindSpore framework, the Model.train method is used to complete this process."
   ]
  },
  {
   "cell_type": "code",
   "execution_count": 8,
   "id": "a6fd1f90-55f0-47f9-a672-bcfc37bd2ef4",
   "metadata": {},
   "outputs": [
    {
     "name": "stdout",
     "output_type": "stream",
     "text": [
      "============== Starting Training ==============\n",
      "epoch: 1 step: 1875, loss is 0.03668900206685066\n",
      "Train epoch time: 13451.140 ms, per step time: 7.174 ms\n",
      "epoch: 2 step: 1875, loss is 0.03346202149987221\n",
      "Train epoch time: 6064.493 ms, per step time: 3.234 ms\n",
      "epoch: 3 step: 1875, loss is 0.006593471392989159\n",
      "Train epoch time: 6206.332 ms, per step time: 3.310 ms\n",
      "epoch: 4 step: 1875, loss is 0.01470639742910862\n",
      "Train epoch time: 6545.745 ms, per step time: 3.491 ms\n",
      "epoch: 5 step: 1875, loss is 0.0025012337137013674\n",
      "Train epoch time: 6326.124 ms, per step time: 3.374 ms\n",
      "epoch: 6 step: 1875, loss is 0.002670426620170474\n",
      "Train epoch time: 7413.392 ms, per step time: 3.954 ms\n",
      "epoch: 7 step: 1875, loss is 5.040990436100401e-05\n",
      "Train epoch time: 6883.214 ms, per step time: 3.671 ms\n",
      "epoch: 8 step: 1875, loss is 0.00023788292310200632\n",
      "Train epoch time: 7324.145 ms, per step time: 3.906 ms\n",
      "epoch: 9 step: 1875, loss is 0.006807973142713308\n",
      "Train epoch time: 6672.569 ms, per step time: 3.559 ms\n",
      "epoch: 10 step: 1875, loss is 5.525994856725447e-05\n",
      "Train epoch time: 6888.383 ms, per step time: 3.674 ms\n"
     ]
    }
   ],
   "source": [
    "# Build a model. \n",
    "model = Model(net, loss, opt, metrics) \n",
    "config_ck = CheckpointConfig(save_checkpoint_steps=1875, keep_checkpoint_max=10) \n",
    "ckpoint_cb = ModelCheckpoint(prefix=\"checkpoint_net\",directory = \"./ckpt\" ,config=config_ck) \n",
    "\n",
    "# Generate a dataset. \n",
    "ds_eval = create_dataset(False, batch_size=32)\n",
    "ds_train = create_dataset(batch_size=32) \n",
    "\n",
    "# Train the model. \n",
    "loss_cb = LossMonitor(per_print_times=1875) \n",
    "time_cb = TimeMonitor(data_size=ds_train.get_dataset_size()) \n",
    "\n",
    "print(\"============== Starting Training ==============\") \n",
    "model.train(num_epoch, ds_train,callbacks=[ckpoint_cb,loss_cb,time_cb ],dataset_sink_mode=False)"
   ]
  },
  {
   "cell_type": "markdown",
   "id": "1844ad28-e5fc-46da-9b00-ac584bce5af9",
   "metadata": {},
   "source": [
    "Although loss values may fluctuate, they gradually decrease and the accuracy gradually increases in general. Loss values displayed each time may be different because of their randomicity."
   ]
  },
  {
   "cell_type": "markdown",
   "id": "8a50bea1-e6a9-481e-9521-b7abbf876afe",
   "metadata": {},
   "source": [
    "### Step 8 Validate the model. \n",
    "In this step, the original test set is used to validate the model."
   ]
  },
  {
   "cell_type": "code",
   "execution_count": 9,
   "id": "d895e3ef-c7f8-42a8-b39b-d05f0f293a8a",
   "metadata": {},
   "outputs": [
    {
     "name": "stdout",
     "output_type": "stream",
     "text": [
      "{'Accuracy': np.float64(0.9784655448717948)}\n"
     ]
    }
   ],
   "source": [
    "# Use the test set to validate the model and print the overall accuracy. \n",
    "metrics=model.eval(ds_eval) \n",
    "print(metrics)"
   ]
  },
  {
   "cell_type": "code",
   "execution_count": null,
   "id": "e8ecfa88-b6a3-484e-a029-3db32f02fa1f",
   "metadata": {},
   "outputs": [],
   "source": []
  }
 ],
 "metadata": {
  "kernelspec": {
   "display_name": "Python 3 (ipykernel)",
   "language": "python",
   "name": "python3"
  },
  "language_info": {
   "codemirror_mode": {
    "name": "ipython",
    "version": 3
   },
   "file_extension": ".py",
   "mimetype": "text/x-python",
   "name": "python",
   "nbconvert_exporter": "python",
   "pygments_lexer": "ipython3",
   "version": "3.9.19"
  }
 },
 "nbformat": 4,
 "nbformat_minor": 5
}
