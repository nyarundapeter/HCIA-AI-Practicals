{
 "cells": [
  {
   "cell_type": "markdown",
   "id": "a15829fa-a248-4a2f-86c9-5515b8ff634e",
   "metadata": {},
   "source": [
    "# Loading Dataset\n",
    "MindSpore.dataset provides APIs to load and process datasets such as MNIST, CIFAR-10, CIFAR-100, VOC, ImageNet, and CelebA.\n",
    "\n",
    "## Step 1 : Load the MNIST dataset"
   ]
  },
  {
   "cell_type": "code",
   "execution_count": 5,
   "id": "437e1e89-841e-476f-a211-d66b21a66582",
   "metadata": {},
   "outputs": [
    {
     "data": {
      "text/plain": [
       "<function matplotlib.pyplot.show(close=None, block=None)>"
      ]
     },
     "execution_count": 5,
     "metadata": {},
     "output_type": "execute_result"
    },
    {
     "data": {
      "image/png": "[encoded data removed]",
      "text/plain": [
       "<Figure size 800x800 with 3 Axes>"
      ]
     },
     "metadata": {},
     "output_type": "display_data"
    }
   ],
   "source": [
    "import os\n",
    "import mindspore.dataset as ds\n",
    "import matplotlib.pyplot as plt\n",
    "\n",
    "dataset_dir = \"../datasets/MNIST/train\"   #Path of the dataset\n",
    "\n",
    "#Read three images from the MNIST dataset\n",
    "mnist_dataset = ds.MnistDataset(dataset_dir=dataset_dir, num_samples = 3)\n",
    "\n",
    "#View the images and set the image sizes\n",
    "plt.figure(figsize = (8,8))\n",
    "i=1\n",
    "\n",
    "#Print three subgraphs\n",
    "for dic in mnist_dataset.create_dict_iterator(output_numpy=True):\n",
    "    plt.subplot(3, 3, i)\n",
    "    plt.imshow(dic['image'][:, : , 0])\n",
    "    plt.axis('off')\n",
    "    i += 1\n",
    "plt.show"
   ]
  },
  {
   "cell_type": "markdown",
   "id": "17d1139a-9ea8-446e-8793-36991069d572",
   "metadata": {},
   "source": [
    "## Step 2 : Customize a dataset\n",
    "\n",
    "For datasets that cannot be directly loaded by MindSpore, you can build a custom dataset class and use the GeneratorDataset API to customize the data loading"
   ]
  },
  {
   "cell_type": "code",
   "execution_count": 4,
   "id": "883f1bfb-9963-4b64-916d-6c219310f354",
   "metadata": {},
   "outputs": [
    {
     "name": "stdout",
     "output_type": "stream",
     "text": [
      "[0.36510558 0.45120592] [0.78888122]\n",
      "[0.49606035 0.07562207] [0.38068183]\n",
      "[0.57176158 0.28963401] [0.16271622]\n",
      "[0.30880446 0.37487617] [0.54738768]\n",
      "[0.81585667 0.96883469] [0.77994068]\n"
     ]
    }
   ],
   "source": [
    "import numpy as np\n",
    "np.random.seed(58)\n",
    "\n",
    "class DatasetGenerator:\n",
    "    #When a dataset object is instatiated, the __init__ function is called. You can perform operations such as data initialization\n",
    "    def __init__(self):\n",
    "        self.data = np.random.sample((5, 2))\n",
    "        self.label = np.random.sample((5, 1))\n",
    "    #Define the __getitem__ function of the dataset class to support random access and obtain and return data in the dataset based on the specified index value\n",
    "    def __getitem__(self, index):\n",
    "        return self.data[index], self.label[index]\n",
    "    #Define the __len__ function of the dataset class and return the number of samples in the dataset\n",
    "    def __len__(self):\n",
    "        return len(self.data)\n",
    "#After the dataset class is defined, the GeneratorDataset API can be used to load and access dataset samples in custom mode\n",
    "dataset_generator = DatasetGenerator()\n",
    "dataset = ds.GeneratorDataset(dataset_generator, [\"data\", \"label\"], shuffle=False)\n",
    "#Use the create_dict_iterator method to obtain data.\n",
    "for data in dataset.create_dict_iterator():\n",
    "        print ('{}'.format(data[\"data\"]), '{}'.format(data[\"label\"]))"
   ]
  },
  {
   "attachments": {},
   "cell_type": "markdown",
   "id": "9e040328-2acc-4af1-a9f1-9a4caf53329c",
   "metadata": {},
   "source": [
    "## Step 3 : Perform data augmentation. \n",
    "The dataset APIs provided by MindSpore support data processing methods such as shuffle and batch. You only need to call the corresponding function API to quickly process data. In the following example, the datasets are shuffled, and two samples form a batch."
   ]
  },
  {
   "cell_type": "code",
   "execution_count": 6,
   "id": "ad7d97ea-6c05-4ddc-b480-4573d43356e1",
   "metadata": {},
   "outputs": [
    {
     "name": "stdout",
     "output_type": "stream",
     "text": [
      "data: [[0.36510558 0.45120592]\n",
      " [0.57176158 0.28963401]]\n",
      "label: [[0.78888122]\n",
      " [0.16271622]]\n",
      "data: [[0.30880446 0.37487617]\n",
      " [0.49606035 0.07562207]]\n",
      "label: [[0.54738768]\n",
      " [0.38068183]]\n",
      "data: [[0.81585667 0.96883469]]\n",
      "label: [[0.77994068]]\n"
     ]
    }
   ],
   "source": [
    "ds.config.set_seed(58) # Shuffle the data sequence. buffer_size indicates the size of the shuffled buffer in the dataset. \n",
    "dataset = dataset.shuffle(buffer_size=10) # Divide the dataset into batches. batch_size indicates the number of data records contained in each batch. Set this parameter to 2. \n",
    "dataset = dataset.batch(batch_size=2) \n",
    "for data in dataset.create_dict_iterator(): \n",
    "    print(\"data: {}\".format(data[\"data\"])) \n",
    "    print(\"label: {}\".format(data[\"label\"]))"
   ]
  },
  {
   "cell_type": "code",
   "execution_count": 10,
   "id": "6dca071e-d9bc-4d06-8e59-412b21f14b09",
   "metadata": {},
   "outputs": [
    {
     "data": {
      "image/png": "[encoded data removed]",
      "text/plain": [
       "<Figure size 640x480 with 1 Axes>"
      ]
     },
     "metadata": {},
     "output_type": "display_data"
    }
   ],
   "source": [
    "import matplotlib.pyplot as plt \n",
    "from mindspore.dataset.vision import Inter \n",
    "import mindspore.dataset.vision as c_vision \n",
    "DATA_DIR = \"../datasets/MNIST/train\" \n",
    "\n",
    "# Obtain six samples. \n",
    "mnist_dataset = ds.MnistDataset(DATA_DIR, num_samples=6, shuffle=False) \n",
    "\n",
    "# View the original image data. \n",
    "mnist_it = mnist_dataset.create_dict_iterator() \n",
    "data = next(mnist_it) \n",
    "plt.imshow(data['image'].asnumpy().squeeze(), cmap=plt.cm.gray) \n",
    "plt.title(data['label'].asnumpy(), fontsize=20) \n",
    "plt.show()"
   ]
  },
  {
   "cell_type": "code",
   "execution_count": 11,
   "id": "65a50bc4-d15e-4320-a538-bbd1767dbbb4",
   "metadata": {},
   "outputs": [
    {
     "data": {
      "image/png": "[encoded data removed]",
      "text/plain": [
       "<Figure size 640x480 with 1 Axes>"
      ]
     },
     "metadata": {},
     "output_type": "display_data"
    }
   ],
   "source": [
    "resize_op = c_vision.Resize(size=(40,40), interpolation=Inter.LINEAR) \n",
    "crop_op = c_vision.RandomCrop(28) \n",
    "\n",
    "transforms_list = [resize_op, crop_op] \n",
    "\n",
    "mnist_dataset = mnist_dataset.map(operations=transforms_list, input_columns=[\"image\"]) \n",
    "mnist_dataset = mnist_dataset.create_dict_iterator() \n",
    "data = next(mnist_dataset) \n",
    "plt.imshow(data['image'].asnumpy().squeeze(), cmap=plt.cm.gray) \n",
    "plt.title(data['label'].asnumpy(), fontsize=20) \n",
    "plt.show()"
   ]
  },
  {
   "cell_type": "code",
   "execution_count": null,
   "id": "5db01ec8-b195-4bac-b968-8346f6b08e40",
   "metadata": {},
   "outputs": [],
   "source": []
  }
 ],
 "metadata": {
  "kernelspec": {
   "display_name": "Python 3 (ipykernel)",
   "language": "python",
   "name": "python3"
  },
  "language_info": {
   "codemirror_mode": {
    "name": "ipython",
    "version": 3
   },
   "file_extension": ".py",
   "mimetype": "text/x-python",
   "name": "python",
   "nbconvert_exporter": "python",
   "pygments_lexer": "ipython3",
   "version": "3.9.19"
  }
 },
 "nbformat": 4,
 "nbformat_minor": 5
}
