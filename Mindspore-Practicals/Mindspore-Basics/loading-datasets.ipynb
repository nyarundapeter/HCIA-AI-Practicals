{
 "cells": [
  {
   "cell_type": "markdown",
   "id": "a15829fa-a248-4a2f-86c9-5515b8ff634e",
   "metadata": {},
   "source": [
    "MindSpore.dataset provides APIs to load and process datasets such as MNIST, CIFAR-10, CIFAR-100, VOC, ImageNet, and CelebA.\n",
    "\n",
    "*Step 1 : Load the MNIST dataset*"
   ]
  },
  {
   "cell_type": "code",
   "execution_count": 3,
   "id": "437e1e89-841e-476f-a211-d66b21a66582",
   "metadata": {},
   "outputs": [
    {
     "data": {
      "text/plain": [
       "<function matplotlib.pyplot.show(close=None, block=None)>"
      ]
     },
     "execution_count": 3,
     "metadata": {},
     "output_type": "execute_result"
    },
    {
     "data": {
      "image/png": "[encoded data removed]",
      "text/plain": [
       "<Figure size 800x800 with 3 Axes>"
      ]
     },
     "metadata": {},
     "output_type": "display_data"
    }
   ],
   "source": [
    "import os\n",
    "import mindspore.dataset as ds\n",
    "import matplotlib.pyplot as plt\n",
    "\n",
    "dataset_dir = \"../datasets/MNIST/train\"   #Path of the dataset\n",
    "\n",
    "#Read three images from the MNIST dataset\n",
    "mnist_dataset = ds.MnistDataset(dataset_dir=dataset_dir, num_samples = 3)\n",
    "\n",
    "#View the images and set the image sizes\n",
    "plt.figure(figsize = (8,8))\n",
    "i=1\n",
    "\n",
    "#Print three subgraphs\n",
    "for dic in mnist_dataset.create_dict_iterator(output_numpy=True):\n",
    "    plt.subplot(3, 3, i)\n",
    "    plt.imshow(dic['image'][:, : , 0])\n",
    "    plt.axis('off')\n",
    "    i += 1\n",
    "plt.show"
   ]
  },
  {
   "cell_type": "markdown",
   "id": "17d1139a-9ea8-446e-8793-36991069d572",
   "metadata": {},
   "source": [
    "*Step 2 : Customize a dataset*\n",
    "\n",
    "For datasets that cannot be directly loaded by MindSpore, you can build a custom dataset class and use the GeneratorDataset API to customize the data loading"
   ]
  },
  {
   "cell_type": "code",
   "execution_count": 4,
   "id": "883f1bfb-9963-4b64-916d-6c219310f354",
   "metadata": {},
   "outputs": [],
   "source": [
    "import numpy as np\n",
    "np.random.seed(58)\n",
    "\n",
    "class DatasetGenerator:\n",
    "    #When a dataset object is instatiated, the __init__ function is called. You can perform operations such as data initialization\n",
    "    def __init__(self):\n",
    "        self.data = np.random.sample((5, 2))\n",
    "        self.label = np.random.sample((5, 1))\n",
    "    #Define the __getitem__ function of the dataset class to support random access and obtain and return data in the dataset based on the specified index value\n",
    "    def __getitem__(self, index):\n",
    "        return self.data[index], self.label[[index]]\n",
    "    #Define the __len__ function of the dataset class and return the number of samples in the dataset\n",
    "    def __len__(self):\n",
    "        return len(self.data)\n",
    "    #After the dataset class is defined, the GeneratorDataset API can be used to load and access dataset samples in custom mode\n",
    "    "
   ]
  },
  {
   "cell_type": "code",
   "execution_count": null,
   "id": "6d7db226-f367-4730-9fd1-2409359ad6c7",
   "metadata": {},
   "outputs": [],
   "source": []
  }
 ],
 "metadata": {
  "kernelspec": {
   "display_name": "Python 3 (ipykernel)",
   "language": "python",
   "name": "python3"
  },
  "language_info": {
   "codemirror_mode": {
    "name": "ipython",
    "version": 3
   },
   "file_extension": ".py",
   "mimetype": "text/x-python",
   "name": "python",
   "nbconvert_exporter": "python",
   "pygments_lexer": "ipython3",
   "version": "3.9.19"
  }
 },
 "nbformat": 4,
 "nbformat_minor": 5
}
