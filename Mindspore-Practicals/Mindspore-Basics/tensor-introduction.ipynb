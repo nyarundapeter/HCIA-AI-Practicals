{
 "cells": [
  {
   "cell_type": "markdown",
   "id": "22c5e778-a2fa-4a70-8479-94e03a527be1",
   "metadata": {},
   "source": [
    "***Introduction to Tensors***\n",
    "\n",
    "A tensor is a basic data structure in Mindspore network computing.\n",
    "\n",
    "*Step 1 : Create a tensor using an array*"
   ]
  },
  {
   "cell_type": "code",
   "execution_count": 1,
   "id": "b53409b0-6e34-4db9-b95f-44a5ab43aa84",
   "metadata": {},
   "outputs": [
    {
     "data": {
      "text/plain": [
       "Tensor(shape=[2, 2], dtype=Int32, value=\n",
       "[[1, 2],\n",
       " [3, 4]])"
      ]
     },
     "execution_count": 1,
     "metadata": {},
     "output_type": "execute_result"
    }
   ],
   "source": [
    "#Import Mindspore\n",
    "import mindspore\n",
    "\n",
    "#The cell outputs multiple lines at the same time.\n",
    "from IPython.core.interactiveshell import InteractiveShell\n",
    "InteractiveShell.ast_node_interactivity = \"all\"\n",
    "\n",
    "import numpy as np\n",
    "from mindspore import Tensor\n",
    "from mindspore import dtype\n",
    "\n",
    "#Use an array to create a tensor\n",
    "x = Tensor(np.array([[1, 2], [3, 4]]), dtype.int32)\n",
    "x"
   ]
  },
  {
   "cell_type": "markdown",
   "id": "5a6314d4-ee77-4db1-9ec2-00b2e44fce80",
   "metadata": {},
   "source": [
    "*Step 2 : Create tensors using numbers*"
   ]
  },
  {
   "cell_type": "code",
   "execution_count": 2,
   "id": "815392a1-f9eb-4cf7-9fa3-23a0ceb44805",
   "metadata": {},
   "outputs": [
    {
     "data": {
      "text/plain": [
       "Tensor(shape=[], dtype=Int32, value= 1)"
      ]
     },
     "execution_count": 2,
     "metadata": {},
     "output_type": "execute_result"
    },
    {
     "data": {
      "text/plain": [
       "Tensor(shape=[], dtype=Int32, value= 2)"
      ]
     },
     "execution_count": 2,
     "metadata": {},
     "output_type": "execute_result"
    }
   ],
   "source": [
    "#Use a number to create tensors\n",
    "y = Tensor(1.0, dtype.int32)\n",
    "z = Tensor(2, dtype.int32)\n",
    "y\n",
    "z"
   ]
  },
  {
   "cell_type": "markdown",
   "id": "8a216e67-2f25-494d-82dc-bcfce5df362f",
   "metadata": {},
   "source": [
    "*Step 3 : Create a tensor using Boolean*"
   ]
  },
  {
   "cell_type": "code",
   "execution_count": 3,
   "id": "54cfcbfb-b892-40ec-8bba-a9cd2eeea575",
   "metadata": {},
   "outputs": [
    {
     "data": {
      "text/plain": [
       "Tensor(shape=[], dtype=Bool, value= True)"
      ]
     },
     "execution_count": 3,
     "metadata": {},
     "output_type": "execute_result"
    }
   ],
   "source": [
    "#Use Boolean to create a tensor\n",
    "m = Tensor(True, dtype.bool_)\n",
    "m"
   ]
  },
  {
   "cell_type": "markdown",
   "id": "2863db3a-7fc5-40b7-b7f4-9bd553120770",
   "metadata": {},
   "source": [
    "*Step 4 : Create a tensor using a tuple*"
   ]
  },
  {
   "cell_type": "code",
   "execution_count": 4,
   "id": "962aa39f-8678-4c03-9002-c6318d9b3015",
   "metadata": {},
   "outputs": [
    {
     "data": {
      "text/plain": [
       "Tensor(shape=[3], dtype=Int16, value= [1, 2, 3])"
      ]
     },
     "execution_count": 4,
     "metadata": {},
     "output_type": "execute_result"
    }
   ],
   "source": [
    "#Use a tuple to create a tensor\n",
    "n = Tensor((1, 2, 3), dtype.int16)\n",
    "n"
   ]
  },
  {
   "cell_type": "markdown",
   "id": "aaeb3a24-4faf-4daa-8863-8d0589d1a070",
   "metadata": {},
   "source": [
    "*Step 5 : Create a tensor using a list*"
   ]
  },
  {
   "cell_type": "code",
   "execution_count": 5,
   "id": "0ada781d-88a1-464f-9c7e-2f71e5916606",
   "metadata": {},
   "outputs": [
    {
     "data": {
      "text/plain": [
       "Tensor(shape=[3], dtype=Float64, value= [ 4.00000000e+00,  5.00000000e+00,  6.00000000e+00])"
      ]
     },
     "execution_count": 5,
     "metadata": {},
     "output_type": "execute_result"
    }
   ],
   "source": [
    "#Use a list to create a tensor\n",
    "p = Tensor([4.0, 5.0, 6.0], dtype.float64)\n",
    "p"
   ]
  },
  {
   "cell_type": "markdown",
   "id": "2434eb8f-1c1b-4d49-9474-5be228cb80c5",
   "metadata": {},
   "source": [
    "*Step 6 : Inherit attributes of another tensor to form a new tensor*"
   ]
  },
  {
   "cell_type": "code",
   "execution_count": 6,
   "id": "40631631-a543-4ab8-81cb-748b94bc7e5d",
   "metadata": {},
   "outputs": [
    {
     "data": {
      "text/plain": [
       "Tensor(shape=[2, 2], dtype=Int32, value=\n",
       "[[1, 1],\n",
       " [1, 1]])"
      ]
     },
     "execution_count": 6,
     "metadata": {},
     "output_type": "execute_result"
    }
   ],
   "source": [
    "from mindspore import ops\n",
    "oneslike = ops.OnesLike()\n",
    "x = Tensor(np.array([[0, 1], [2, 1]]).astype(np.int32))\n",
    "output = oneslike(x)\n",
    "output"
   ]
  },
  {
   "cell_type": "markdown",
   "id": "3f76a48b-d7de-4917-9805-7a67dfa9a80a",
   "metadata": {},
   "source": [
    "*Step 7 : Output constant tensor value*"
   ]
  },
  {
   "cell_type": "code",
   "execution_count": 7,
   "id": "7f0fd803-d64d-4f48-8bbf-25f9f38e15d1",
   "metadata": {},
   "outputs": [
    {
     "name": "stdout",
     "output_type": "stream",
     "text": [
      "[[1. 1.]\n",
      " [1. 1.]]\n",
      "[[0. 0.]\n",
      " [0. 0.]]\n"
     ]
    }
   ],
   "source": [
    "from mindspore.ops import operations as ops\n",
    "\n",
    "shape = (2, 2)\n",
    "ones = ops.Ones()\n",
    "output = ones(shape, dtype.float32)\n",
    "print(output)\n",
    "\n",
    "zeros = ops.Zeros()\n",
    "output = zeros(shape, dtype.float32)\n",
    "print(output)"
   ]
  },
  {
   "cell_type": "markdown",
   "id": "a6011827-14fd-4d49-85ce-874f6df8ef1a",
   "metadata": {},
   "source": [
    "**Tensor Attributes**\n",
    "\n",
    "Tensor attributes include shape and data type(dtype)\n",
    "- Shape : a tuple\n",
    "- Data type : a data type of mindspore"
   ]
  },
  {
   "cell_type": "code",
   "execution_count": 8,
   "id": "caaabe5c-104b-4346-acdd-2ece9983774c",
   "metadata": {},
   "outputs": [
    {
     "data": {
      "text/plain": [
       "(2, 2)"
      ]
     },
     "execution_count": 8,
     "metadata": {},
     "output_type": "execute_result"
    },
    {
     "data": {
      "text/plain": [
       "mindspore.int32"
      ]
     },
     "execution_count": 8,
     "metadata": {},
     "output_type": "execute_result"
    },
    {
     "data": {
      "text/plain": [
       "2"
      ]
     },
     "execution_count": 8,
     "metadata": {},
     "output_type": "execute_result"
    },
    {
     "data": {
      "text/plain": [
       "4"
      ]
     },
     "execution_count": 8,
     "metadata": {},
     "output_type": "execute_result"
    }
   ],
   "source": [
    "x = Tensor(np.array([[1, 2], [3, 4]]) , dtype.int32)\n",
    "\n",
    "x.shape   #Shape\n",
    "x.dtype   #Data type\n",
    "x.ndim    #Dimension\n",
    "x.size    #Size"
   ]
  },
  {
   "cell_type": "markdown",
   "id": "5cccece0-ea53-4219-9a5e-465addda2d47",
   "metadata": {},
   "source": [
    "**Tensor Methods**\n",
    "\n",
    "asnumpy(): Converts a tensor to an array of NumPy"
   ]
  },
  {
   "cell_type": "code",
   "execution_count": 9,
   "id": "b8f6d870-682f-46d3-bab8-3013f0c3f3c1",
   "metadata": {},
   "outputs": [
    {
     "data": {
      "text/plain": [
       "Tensor(shape=[2, 2], dtype=Bool, value=\n",
       "[[ True,  True],\n",
       " [False, False]])"
      ]
     },
     "execution_count": 9,
     "metadata": {},
     "output_type": "execute_result"
    },
    {
     "data": {
      "text/plain": [
       "array([[ True,  True],\n",
       "       [False, False]])"
      ]
     },
     "execution_count": 9,
     "metadata": {},
     "output_type": "execute_result"
    }
   ],
   "source": [
    "y = Tensor(np.array([[True, True], [False, False]]), dtype.bool_)\n",
    "\n",
    "#Convert the tensor data type to NumPy\n",
    "y_array = y.asnumpy()\n",
    "\n",
    "y\n",
    "y_array"
   ]
  },
  {
   "cell_type": "markdown",
   "id": "8f262b0b-6414-49bb-b80f-a22250aaba22",
   "metadata": {},
   "source": [
    "**Tensor Operations**\n",
    "\n",
    "There are many operations between tensors, including arithmetic, linear algebra, matrix processing (transposing, indexing, and slicing), and sampling.\n",
    "<br>The following describes several operations. The usage of tensor computation is similar to that NumPy"
   ]
  },
  {
   "cell_type": "markdown",
   "id": "15998bfd-5eb5-4ab4-8fd2-1472688941f5",
   "metadata": {},
   "source": [
    "*Step 1 : Perform indexing and slicing*"
   ]
  },
  {
   "cell_type": "code",
   "execution_count": 11,
   "id": "ba74d62f-d0b9-49a3-b00a-b1b89d8a9285",
   "metadata": {},
   "outputs": [
    {
     "name": "stdout",
     "output_type": "stream",
     "text": [
      "First row: [0. 1.]\n",
      "First column: [0. 2.]\n",
      "Last row: [1. 3.]\n"
     ]
    }
   ],
   "source": [
    "tensor = Tensor(np.array([[0, 1], [2, 3]]).astype(np.float32))\n",
    "\n",
    "print(\"First row: {}\".format(tensor[0]))\n",
    "print(\"First column: {}\".format(tensor[:, 0]))\n",
    "print(\"Last row: {}\".format(tensor[..., -1]))"
   ]
  },
  {
   "cell_type": "markdown",
   "id": "647b4ed8-e4a1-4aad-a849-556dd4148a6a",
   "metadata": {},
   "source": [
    "*Step 2 : Concatenate tensors*"
   ]
  },
  {
   "cell_type": "code",
   "execution_count": 13,
   "id": "8b972a16-74cd-4202-a1d9-837744512dbb",
   "metadata": {},
   "outputs": [
    {
     "name": "stdout",
     "output_type": "stream",
     "text": [
      "[[[0. 1.]\n",
      "  [2. 3.]]\n",
      "\n",
      " [[4. 5.]\n",
      "  [6. 7.]]]\n"
     ]
    }
   ],
   "source": [
    "data1 = Tensor(np.array([[0, 1], [2, 3]]).astype(np.float32))\n",
    "data2 = Tensor(np.array([[4, 5], [6, 7]]).astype(np.float32))\n",
    "\n",
    "op = ops.Stack()\n",
    "output = op([data1, data2])\n",
    "print(output)"
   ]
  },
  {
   "cell_type": "markdown",
   "id": "318dac0e-2774-46b6-a942-c03d3cb97d57",
   "metadata": {},
   "source": [
    "*Step 3 : Convert to NumPy*"
   ]
  },
  {
   "cell_type": "code",
   "execution_count": 16,
   "id": "811f9e61-e9bb-4f8a-ba41-375e53b88760",
   "metadata": {},
   "outputs": [
    {
     "name": "stdout",
     "output_type": "stream",
     "text": [
      "output: <class 'mindspore.common._stub_tensor.StubTensor'>\n",
      "n_output:<class 'numpy.ndarray'>\n"
     ]
    }
   ],
   "source": [
    "zeros = ops.Zeros()\n",
    "output = zeros((2, 2), dtype.float32)\n",
    "print(\"output: {}\".format(type(output)))\n",
    "n_output = output.asnumpy()\n",
    "print(\"n_output:{}\".format(type(n_output)))"
   ]
  },
  {
   "cell_type": "code",
   "execution_count": null,
   "id": "9a03b95f-6355-418d-8673-a2fce6ec250e",
   "metadata": {},
   "outputs": [],
   "source": []
  }
 ],
 "metadata": {
  "kernelspec": {
   "display_name": "Python 3 (ipykernel)",
   "language": "python",
   "name": "python3"
  },
  "language_info": {
   "codemirror_mode": {
    "name": "ipython",
    "version": 3
   },
   "file_extension": ".py",
   "mimetype": "text/x-python",
   "name": "python",
   "nbconvert_exporter": "python",
   "pygments_lexer": "ipython3",
   "version": "3.9.19"
  }
 },
 "nbformat": 4,
 "nbformat_minor": 5
}
