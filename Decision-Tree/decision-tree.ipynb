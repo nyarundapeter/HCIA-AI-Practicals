{
 "cells": [
  {
   "cell_type": "markdown",
   "id": "dc84e4fe-32f0-4b43-81f3-ff03687940a3",
   "metadata": {},
   "source": [
    "This experiment use the tennis.txt dataset, which contains 14 samples. Each sample contains weather-related features and whether it is suitable for tennis.\n",
    "\n",
    "Step 1: Import dependencies"
   ]
  },
  {
   "cell_type": "code",
   "execution_count": 2,
   "id": "41683fb9-c7ec-4572-b980-1b2306c710a7",
   "metadata": {},
   "outputs": [],
   "source": [
    "import pandas as pd\n",
    "import numpy as np\n",
    "from sklearn import tree\n",
    "import pydotplus"
   ]
  },
  {
   "cell_type": "markdown",
   "id": "ec3755c1-4cfd-472e-8662-079c28183c7f",
   "metadata": {},
   "source": [
    "Step 2: Define the function for generating a decision tree."
   ]
  },
  {
   "cell_type": "code",
   "execution_count": 4,
   "id": "6576a8f4-5443-4a26-95cf-338fd8c80f29",
   "metadata": {},
   "outputs": [],
   "source": [
    "#Generate a decision tree\n",
    "\n",
    "def createTree(trainingData):\n",
    "    data = trainingData.iloc[:, :-1]   #Feature Matrix\n",
    "    labels = trainingData.iloc[:, -1]   #Labels\n",
    "    trainedTree = tree.DecisionTreeClassifier(criterion=\"entropy\")   #Decision tree classifier\n",
    "    trainedTree.fit(data, labels)   #Train the model.\n",
    "    return trainedTree"
   ]
  },
  {
   "cell_type": "markdown",
   "id": "7d0a0698-b7da-4f70-8fe8-90cc274417d1",
   "metadata": {},
   "source": [
    "Step 3: Define the function for saving the generated tree diagram."
   ]
  },
  {
   "cell_type": "code",
   "execution_count": 6,
   "id": "85eb7e1e-3a8b-4ef5-b8b2-8ec1ac87f3e0",
   "metadata": {},
   "outputs": [],
   "source": [
    "def showtree2pdf(trainedTree, filename):\n",
    "    dot_data = tree.export_graphviz(trainedTree, out_file=None)   #Export the tree in Graphviz format.\n",
    "    graph = pydotplus.graph_from_dot_data(dot_data)\n",
    "    graph.write_pdf(filename)   #Save the tree diagram to the local machine in PDF format."
   ]
  },
  {
   "cell_type": "markdown",
   "id": "1c2dbc26-6a6e-411f-94cd-ba244cd6e496",
   "metadata": {},
   "source": [
    "Step 4: Define the function for generating vectorized data.\n",
    "\n",
    "In the function, pd.Categorical(list).codes obtains the sequences number list corresponding to the original data, so as to convert the categorical information into numerical information"
   ]
  },
  {
   "cell_type": "code",
   "execution_count": 8,
   "id": "e0f7d6b7-b0cf-4346-9b51-dbce89a6dc64",
   "metadata": {},
   "outputs": [],
   "source": [
    "def data2vectoc(data):\n",
    "    names = data.columns[:-1]\n",
    "    for i in names:\n",
    "        col = pd.Categorical(data[i])\n",
    "        data[i] = col.codes\n",
    "    return data"
   ]
  },
  {
   "cell_type": "markdown",
   "id": "397b33bc-d5ac-4d15-bd8a-ee098f03abd3",
   "metadata": {},
   "source": [
    "Step 5: Invoke the function for prediction "
   ]
  },
  {
   "cell_type": "code",
   "execution_count": 10,
   "id": "c823b121-67d3-4e24-9a89-9b4d2de737b0",
   "metadata": {},
   "outputs": [],
   "source": [
    "data = pd.read_table(\"../Practicals-Dataset/tennis.txt\", header=None, sep='\\t')   #Read the training data.\n",
    "trainingvec = data2vectoc(data)   #Vectorize the data\n",
    "decisionTree = createTree(trainingvec)   #Create a decision tree\n",
    "showtree2pdf(decisionTree, \"tennis.pdf\")   #Plot the decision tree"
   ]
  },
  {
   "cell_type": "markdown",
   "id": "9db55d5f-26fd-4f0b-8080-39ee9033f2c2",
   "metadata": {},
   "source": [
    "Predict new sample"
   ]
  },
  {
   "cell_type": "code",
   "execution_count": 19,
   "id": "3b2150da-f703-4ceb-9682-1ac089098714",
   "metadata": {},
   "outputs": [
    {
     "name": "stdout",
     "output_type": "stream",
     "text": [
      "['Y']\n"
     ]
    }
   ],
   "source": [
    "testVec = [0, 0, 1, 1]   #Weather is sunny, temperature is low, humidity is high, and wind is strong.\n",
    "print(decisionTree.predict(np.array(testVec).reshape(1, -1)))   #Predict."
   ]
  }
 ],
 "metadata": {
  "kernelspec": {
   "display_name": "Python 3 (ipykernel)",
   "language": "python",
   "name": "python3"
  },
  "language_info": {
   "codemirror_mode": {
    "name": "ipython",
    "version": 3
   },
   "file_extension": ".py",
   "mimetype": "text/x-python",
   "name": "python",
   "nbconvert_exporter": "python",
   "pygments_lexer": "ipython3",
   "version": "3.11.7"
  }
 },
 "nbformat": 4,
 "nbformat_minor": 5
}
