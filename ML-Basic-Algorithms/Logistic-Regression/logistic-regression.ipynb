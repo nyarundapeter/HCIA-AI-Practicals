{
 "cells": [
  {
   "cell_type": "markdown",
   "id": "c6fa7c6e-b827-4463-ac0c-33c95bd78825",
   "metadata": {},
   "source": [
    "This experiment uses a custom dataset of house rent and area. The dataset is defined during the initial phase of the experiment.\n",
    "\n",
    "Step 1: Import the depedencies"
   ]
  },
  {
   "cell_type": "code",
   "execution_count": 4,
   "id": "d7cf74c5-856f-4074-b781-73476236a46b",
   "metadata": {},
   "outputs": [],
   "source": [
    "#Import StandardScaler from sklearn.preprocessing\n",
    "from sklearn.preprocessing import StandardScaler\n",
    "#Import LogisticRegression from sklearn.linear_model\n",
    "from sklearn.linear_model import LogisticRegression"
   ]
  },
  {
   "cell_type": "markdown",
   "id": "e5fae626-e6ac-4917-8e8d-f7230c3db1a5",
   "metadata": {},
   "source": [
    "Step 2: Define the dataset"
   ]
  },
  {
   "cell_type": "code",
   "execution_count": 24,
   "id": "6471b05d-cda1-4fc2-86d1-099a201ddf5c",
   "metadata": {},
   "outputs": [],
   "source": [
    "#Each item in X denotes the area and the rent.\n",
    "\n",
    "#Each item in y indicates whether to rent the room (0:no, 1:yes)\n",
    "\n",
    "X = [[2200, 15], [2750, 20], [5000, 40], [4000, 20], [3300, 20], [2000, 10], [2500, 12], [12000, 80], [2880, 10], [2300, 15], [1500, 10], [3000, 8], [2000, 14], [2000, 10], [2150, 8], [3400, 20], [5000, 20], [4000, 10], [3300, 15], [2000, 12], [2500, 14], [10000, 100], [3150, 10], [2950, 15], [1500, 5], [3000, 18], [8000, 12], [2220, 14], [6000, 100], [3050, 10]]\n",
    "y = [1, 1, 0, 0, 1, 1, 1, 1, 0, 1, 1, 0, 1, 1, 0, 1, 0, 0, 0, 1, 1, 1, 0, 1, 0, 1, 0, 1, 1, 0]"
   ]
  },
  {
   "cell_type": "markdown",
   "id": "dfc525e8-5fb9-4308-b459-1419db33e291",
   "metadata": {},
   "source": [
    "Step 3: Preprocess data\n",
    "\n",
    "Standardize data to ensure that the variance of feature data in each dimension is 1 and the mean is 0. In this way, the prediction result is not dominated by large feature values of some dimension"
   ]
  },
  {
   "cell_type": "code",
   "execution_count": 27,
   "id": "80ccd130-c9d3-4c62-a771-d8a60c02f40e",
   "metadata": {},
   "outputs": [],
   "source": [
    "ss = StandardScaler()\n",
    "X_train = ss.fit_transform(X)"
   ]
  },
  {
   "cell_type": "markdown",
   "id": "3b291126-a071-47bf-87ca-33da99b9da2a",
   "metadata": {},
   "source": [
    "Display the standardized data."
   ]
  },
  {
   "cell_type": "code",
   "execution_count": 30,
   "id": "dff7a5c1-4a47-44c0-96a4-ed8eaf913aca",
   "metadata": {},
   "outputs": [
    {
     "name": "stdout",
     "output_type": "stream",
     "text": [
      "[[-0.60583897 -0.29313058]\n",
      " [-0.37682768 -0.09050576]\n",
      " [ 0.56003671  0.71999355]\n",
      " [ 0.14365254 -0.09050576]\n",
      " [-0.14781638 -0.09050576]\n",
      " [-0.68911581 -0.49575541]\n",
      " [-0.48092372 -0.41470548]\n",
      " [ 3.47472592  2.34099218]\n",
      " [-0.32269773 -0.49575541]\n",
      " [-0.56420055 -0.29313058]\n",
      " [-0.89730789 -0.49575541]\n",
      " [-0.27273163 -0.57680534]\n",
      " [-0.68911581 -0.33365555]\n",
      " [-0.68911581 -0.49575541]\n",
      " [-0.62665818 -0.57680534]\n",
      " [-0.10617796 -0.09050576]\n",
      " [ 0.56003671 -0.09050576]\n",
      " [ 0.14365254 -0.49575541]\n",
      " [-0.14781638 -0.29313058]\n",
      " [-0.68911581 -0.41470548]\n",
      " [-0.48092372 -0.33365555]\n",
      " [ 2.64195758  3.15149149]\n",
      " [-0.21027401 -0.49575541]\n",
      " [-0.29355084 -0.29313058]\n",
      " [-0.89730789 -0.69838024]\n",
      " [-0.27273163 -0.17155569]\n",
      " [ 1.80918923 -0.41470548]\n",
      " [-0.59751129 -0.33365555]\n",
      " [ 0.97642089  3.15149149]\n",
      " [-0.25191242 -0.49575541]]\n"
     ]
    }
   ],
   "source": [
    "print(X_train)"
   ]
  },
  {
   "cell_type": "markdown",
   "id": "2e924a3d-48c4-4f30-a83e-bec12c944b69",
   "metadata": {},
   "source": [
    "Step 4: Fit the data"
   ]
  },
  {
   "cell_type": "code",
   "execution_count": 33,
   "id": "5e549611-4570-43c1-808f-23e4d6a7592b",
   "metadata": {},
   "outputs": [
    {
     "data": {
      "text/html": [
       "<style>#sk-container-id-1 {color: black;background-color: white;}#sk-container-id-1 pre{padding: 0;}#sk-container-id-1 div.sk-toggleable {background-color: white;}#sk-container-id-1 label.sk-toggleable__label {cursor: pointer;display: block;width: 100%;margin-bottom: 0;padding: 0.3em;box-sizing: border-box;text-align: center;}#sk-container-id-1 label.sk-toggleable__label-arrow:before {content: \"▸\";float: left;margin-right: 0.25em;color: #696969;}#sk-container-id-1 label.sk-toggleable__label-arrow:hover:before {color: black;}#sk-container-id-1 div.sk-estimator:hover label.sk-toggleable__label-arrow:before {color: black;}#sk-container-id-1 div.sk-toggleable__content {max-height: 0;max-width: 0;overflow: hidden;text-align: left;background-color: #f0f8ff;}#sk-container-id-1 div.sk-toggleable__content pre {margin: 0.2em;color: black;border-radius: 0.25em;background-color: #f0f8ff;}#sk-container-id-1 input.sk-toggleable__control:checked~div.sk-toggleable__content {max-height: 200px;max-width: 100%;overflow: auto;}#sk-container-id-1 input.sk-toggleable__control:checked~label.sk-toggleable__label-arrow:before {content: \"▾\";}#sk-container-id-1 div.sk-estimator input.sk-toggleable__control:checked~label.sk-toggleable__label {background-color: #d4ebff;}#sk-container-id-1 div.sk-label input.sk-toggleable__control:checked~label.sk-toggleable__label {background-color: #d4ebff;}#sk-container-id-1 input.sk-hidden--visually {border: 0;clip: rect(1px 1px 1px 1px);clip: rect(1px, 1px, 1px, 1px);height: 1px;margin: -1px;overflow: hidden;padding: 0;position: absolute;width: 1px;}#sk-container-id-1 div.sk-estimator {font-family: monospace;background-color: #f0f8ff;border: 1px dotted black;border-radius: 0.25em;box-sizing: border-box;margin-bottom: 0.5em;}#sk-container-id-1 div.sk-estimator:hover {background-color: #d4ebff;}#sk-container-id-1 div.sk-parallel-item::after {content: \"\";width: 100%;border-bottom: 1px solid gray;flex-grow: 1;}#sk-container-id-1 div.sk-label:hover label.sk-toggleable__label {background-color: #d4ebff;}#sk-container-id-1 div.sk-serial::before {content: \"\";position: absolute;border-left: 1px solid gray;box-sizing: border-box;top: 0;bottom: 0;left: 50%;z-index: 0;}#sk-container-id-1 div.sk-serial {display: flex;flex-direction: column;align-items: center;background-color: white;padding-right: 0.2em;padding-left: 0.2em;position: relative;}#sk-container-id-1 div.sk-item {position: relative;z-index: 1;}#sk-container-id-1 div.sk-parallel {display: flex;align-items: stretch;justify-content: center;background-color: white;position: relative;}#sk-container-id-1 div.sk-item::before, #sk-container-id-1 div.sk-parallel-item::before {content: \"\";position: absolute;border-left: 1px solid gray;box-sizing: border-box;top: 0;bottom: 0;left: 50%;z-index: -1;}#sk-container-id-1 div.sk-parallel-item {display: flex;flex-direction: column;z-index: 1;position: relative;background-color: white;}#sk-container-id-1 div.sk-parallel-item:first-child::after {align-self: flex-end;width: 50%;}#sk-container-id-1 div.sk-parallel-item:last-child::after {align-self: flex-start;width: 50%;}#sk-container-id-1 div.sk-parallel-item:only-child::after {width: 0;}#sk-container-id-1 div.sk-dashed-wrapped {border: 1px dashed gray;margin: 0 0.4em 0.5em 0.4em;box-sizing: border-box;padding-bottom: 0.4em;background-color: white;}#sk-container-id-1 div.sk-label label {font-family: monospace;font-weight: bold;display: inline-block;line-height: 1.2em;}#sk-container-id-1 div.sk-label-container {text-align: center;}#sk-container-id-1 div.sk-container {/* jupyter's `normalize.less` sets `[hidden] { display: none; }` but bootstrap.min.css set `[hidden] { display: none !important; }` so we also need the `!important` here to be able to override the default hidden behavior on the sphinx rendered scikit-learn.org. See: https://github.com/scikit-learn/scikit-learn/issues/21755 */display: inline-block !important;position: relative;}#sk-container-id-1 div.sk-text-repr-fallback {display: none;}</style><div id=\"sk-container-id-1\" class=\"sk-top-container\"><div class=\"sk-text-repr-fallback\"><pre>LogisticRegression()</pre><b>In a Jupyter environment, please rerun this cell to show the HTML representation or trust the notebook. <br />On GitHub, the HTML representation is unable to render, please try loading this page with nbviewer.org.</b></div><div class=\"sk-container\" hidden><div class=\"sk-item\"><div class=\"sk-estimator sk-toggleable\"><input class=\"sk-toggleable__control sk-hidden--visually\" id=\"sk-estimator-id-1\" type=\"checkbox\" checked><label for=\"sk-estimator-id-1\" class=\"sk-toggleable__label sk-toggleable__label-arrow\">LogisticRegression</label><div class=\"sk-toggleable__content\"><pre>LogisticRegression()</pre></div></div></div></div></div>"
      ],
      "text/plain": [
       "LogisticRegression()"
      ]
     },
     "execution_count": 33,
     "metadata": {},
     "output_type": "execute_result"
    }
   ],
   "source": [
    "#Use the fit method of LogisticRegression to train model parameters\n",
    "lr = LogisticRegression()\n",
    "lr.fit(X_train, y)"
   ]
  },
  {
   "cell_type": "markdown",
   "id": "a8342d69-aac3-44d2-8854-32fc7006a486",
   "metadata": {},
   "source": [
    "Step 5: Predict the data"
   ]
  },
  {
   "cell_type": "code",
   "execution_count": 38,
   "id": "8d2c4e18-d35a-4509-9436-73e0cf4f7ec3",
   "metadata": {},
   "outputs": [
    {
     "name": "stdout",
     "output_type": "stream",
     "text": [
      "Value to be predicted:  [[-0.68911581 -0.57680534]]\n",
      "Predicted label =  [1]\n",
      "Probability=  [[0.41886952 0.58113048]]\n"
     ]
    }
   ],
   "source": [
    "testX = [[2000, 8]]\n",
    "X_test = ss.transform(testX)\n",
    "print(\"Value to be predicted: \", X_test)\n",
    "label = lr.predict(X_test)\n",
    "print(\"Predicted label = \", label)\n",
    "#Output the predicted probability.\n",
    "prob = lr.predict_proba(X_test)\n",
    "print(\"Probability= \", prob)"
   ]
  },
  {
   "cell_type": "code",
   "execution_count": null,
   "id": "a0769514-a9f9-4305-afce-c27d9b7f5d29",
   "metadata": {},
   "outputs": [],
   "source": []
  }
 ],
 "metadata": {
  "kernelspec": {
   "display_name": "Python 3 (ipykernel)",
   "language": "python",
   "name": "python3"
  },
  "language_info": {
   "codemirror_mode": {
    "name": "ipython",
    "version": 3
   },
   "file_extension": ".py",
   "mimetype": "text/x-python",
   "name": "python",
   "nbconvert_exporter": "python",
   "pygments_lexer": "ipython3",
   "version": "3.11.7"
  }
 },
 "nbformat": 4,
 "nbformat_minor": 5
}
